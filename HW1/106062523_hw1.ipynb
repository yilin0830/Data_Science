{
 "cells": [
  {
   "cell_type": "code",
   "execution_count": 26,
   "metadata": {},
   "outputs": [
    {
     "name": "stdout",
     "output_type": "stream",
     "text": [
      "https://www.blockchain.com/eth/address/0x03f034fb47965123ea4148e3147e2cfdc5b1f7a5?view=standard\n",
      "https://www.blockchain.com/eth/address/0x3B5744c7F340E0d2Dcf7A072A4c963B9a43c982B?view=standard\n"
     ]
    }
   ],
   "source": [
    "import requests\n",
    "from bs4 import BeautifulSoup\n",
    "\n",
    "inputfile = \"input_hw1.txt\"\n",
    "outputfile = \"106062523_hw1_output.txt\"\n",
    "\n",
    "\n",
    "fp = open(inputfile, \"r\") # Open input file\n",
    "fp2 = open(outputfile, \"w\") # Open output file \n",
    "line = fp.readline().rstrip('\\n') # Read the first line\n",
    "while line:\n",
    "#     print(line)\n",
    "    url = 'https://www.blockchain.com/eth/address/' + line + '?view=standard'\n",
    "    print(url)\n",
    "    r = requests.get(url)\n",
    "    #print(r.text)\n",
    "    line = fp.readline().rstrip('\\n') # Read the next line    \n",
    "fp.close()  # Close input file\n",
    "fp2.close() # Close outut file\n"
   ]
  },
  {
   "cell_type": "code",
   "execution_count": 188,
   "metadata": {},
   "outputs": [
    {
     "name": "stdout",
     "output_type": "stream",
     "text": [
      "Nonce: 32\n",
      "\n",
      "Number of Transactions: 53\n",
      "\n",
      "Final Balance: 0.14351759235753823 ETH\n",
      "\n",
      "Total Sent: 21.48345000 ETH\n",
      "\n",
      "Total Received: 21.64536359235753823 ETH\n",
      "\n",
      "Total Fees: 0.01839600 ETH\n",
      "\n",
      "Date: 2018-04-20 10:49\n",
      "\n",
      "To: 0x4f49bdebbef29a4f1a3ea1d41867ece1850cef75\n",
      "\n",
      "Amount: -0.00015000 ETH\n",
      "\n",
      "--------------------------------------------------------------------------\n",
      "\n",
      "Nonce: 1\n",
      "\n",
      "Number of Transactions: 2\n",
      "\n",
      "Final Balance: 0.000075196 ETH\n",
      "\n",
      "Total Sent: 0.00000000 ETH\n",
      "\n",
      "Total Received: 0.00015000 ETH\n",
      "\n",
      "Total Fees: 0.000074804 ETH\n",
      "\n",
      "Date: 2018-04-20 10:54\n",
      "\n",
      "To: 0xdd007278b667f6bef52fd0a4c23604aa1f96039a\n",
      "\n",
      "Amount: -0.00000000 ETH\n",
      "\n",
      "--------------------------------------------------------------------------\n",
      "\n",
      "Nonce: 0\n",
      "\n",
      "Number of Transactions: 1,659\n",
      "\n",
      "Final Balance: 0.00000000 ETH\n",
      "\n",
      "Total Sent: 0.00000000 ETH\n",
      "\n",
      "Total Received: 0.00000000 ETH\n",
      "\n",
      "Total Fees: 0.00000000 ETH\n",
      "\n",
      "--------------------------------------------------------------------------\n",
      "\n",
      "0x03f034fb47965123ea4148e3147e2cfdc5b1f7a5\n",
      " -> \n",
      "0x4f49bdebbef29a4f1a3ea1d41867ece1850cef75\n",
      " -> \n",
      "0xdd007278b667f6bef52fd0a4c23604aa1f96039a\n",
      "\n",
      "\n",
      "--------------------------------------------------------------------------\n",
      "\n",
      "Nonce: 70\n",
      "\n",
      "Number of Transactions: 193\n",
      "\n",
      "Final Balance: 0.00034760 ETH\n",
      "\n",
      "Total Sent: 16.80580537286843859 ETH\n",
      "\n",
      "Total Received: 16.82485640986843859 ETH\n",
      "\n",
      "Total Fees: 0.018703437 ETH\n",
      "\n",
      "Date: 2018-05-10 15:41\n",
      "\n",
      "To: 0xa8bb6755d9c732ca4e35a5f22ae471c59b194a45\n",
      "\n",
      "Amount: -0.30000000 ETH\n",
      "\n",
      "--------------------------------------------------------------------------\n",
      "\n",
      "Nonce: 1,100\n",
      "\n",
      "Number of Transactions: 2,288\n",
      "\n",
      "Final Balance: 0.00000000 ETH\n",
      "\n",
      "Total Sent: 1182.369890368317705613 ETH\n",
      "\n",
      "Total Received: 1182.822862999310724613 ETH\n",
      "\n",
      "Total Fees: 0.452972630993019 ETH\n",
      "\n",
      "Date: 2018-05-26 08:25\n",
      "\n",
      "To: 0x10a502e011544c1e67a47d322f1692c039e71a94\n",
      "\n",
      "Amount: -0.39979249375 ETH\n",
      "\n",
      "--------------------------------------------------------------------------\n",
      "\n",
      "Nonce: 6,186\n",
      "\n",
      "Number of Transactions: 13,512\n",
      "\n",
      "Final Balance: 0.00000000 ETH\n",
      "\n",
      "Total Sent: 6789.76154059326775457 ETH\n",
      "\n",
      "Total Received: 6791.538462684073543367 ETH\n",
      "\n",
      "Total Fees: 1.776922090805788797 ETH\n",
      "\n",
      "Date: 2018-07-15 10:04\n",
      "\n",
      "To: 0xab31f4ea9126903c67f664e753a1bc3a47bff94d\n",
      "\n",
      "Amount: -4.57240513 ETH\n",
      "\n",
      "--------------------------------------------------------------------------\n",
      "\n",
      "Nonce: 1\n",
      "\n",
      "Number of Transactions: 5\n",
      "\n",
      "Final Balance: 0.00000007 ETH\n",
      "\n",
      "Total Sent: 11.74323960 ETH\n",
      "\n",
      "Total Received: 11.74519267 ETH\n",
      "\n",
      "Total Fees: 0.00195300 ETH\n",
      "\n",
      "Date: 2018-07-15 18:46\n",
      "\n",
      "To: 0xa2865747b37f4502b67f2e89ec69e1d22c55c009\n",
      "\n",
      "Amount: -11.74323960 ETH\n",
      "\n",
      "--------------------------------------------------------------------------\n",
      "\n",
      "0x3B5744c7F340E0d2Dcf7A072A4c963B9a43c982B\n",
      " -> \n",
      "0xa8bb6755d9c732ca4e35a5f22ae471c59b194a45\n",
      " -> \n",
      "0x10a502e011544c1e67a47d322f1692c039e71a94\n",
      " -> \n",
      "0xab31f4ea9126903c67f664e753a1bc3a47bff94d\n",
      "\n",
      "\n",
      "--------------------------------------------------------------------------\n",
      "\n"
     ]
    }
   ],
   "source": [
    "import requests\n",
    "from bs4 import BeautifulSoup\n",
    "from urllib.request import urlopen\n",
    "\n",
    "inputfile = \"input_hw1.txt\"\n",
    "outputfile = \"106062523_hw1_output.txt\"\n",
    "\n",
    "fp = open(inputfile, \"r\") # Open input file\n",
    "fp2 = open(outputfile, \"w\") # Open output file \n",
    "\n",
    "line = fp.readline().rstrip('\\n') # Read the first line\n",
    "while line:\n",
    "    Path = [] # 起始地址 -> 地址1 -> 地址2 -> 地址3\n",
    "    count = 0\n",
    "    while line and count<=3: # 提前結束或到地址3\n",
    "        Path.append(line)\n",
    "    #     print(line)\n",
    "        url = \"https://www.blockchain.com/eth/address/\" + line + \"?view=standard\"\n",
    "    #     print(url)\n",
    "        html = urlopen(url).read()\n",
    "        soup = BeautifulSoup(html,\"html.parser\")\n",
    "    #     print(soup)\n",
    "        detail = soup.find('div', 'hnfgic-0 blXlQu').find_all('span', 'sc-1ryi78w-0 bFGdFC sc-16b9dsl-1 iIOvXh u3ufsr-0 gXDEBk')\n",
    "    #     print(detail)\n",
    "        detail2 = soup.find('div', 'hnfgic-0 blXlQu').find_all('span', 'sc-1ryi78w-0 bFGdFC sc-16b9dsl-1 iIOvXh sc-1n72lkw-0 bKaZjn')\n",
    "\n",
    "        # 把tag裡面的text抓出來\n",
    "        L = []\n",
    "        for d in detail:\n",
    "            attr = d.text.strip()\n",
    "    #         print(attr)\n",
    "            L.append(attr)\n",
    "        i = 0\n",
    "        for d in detail2:   \n",
    "            attr_name = d.text.strip()\n",
    "            if i!= 0:\n",
    "                fp2.write(attr_name+': '+ L[i] + '\\n')\n",
    "                print(attr_name+': '+ L[i] + '\\n')\n",
    "            i = i+1\n",
    "        if soup.find_all('span', 'sc-1ryi78w-0 bFGdFC sc-16b9dsl-1 iIOvXh u3ufsr-0 gXDEBk sc-85fclk-0 gskKpd') == []: # 提前結束\n",
    "            fp2.write('--------------------------------------------------------------------------'+'\\n')\n",
    "            print('--------------------------------------------------------------------------'+'\\n')\n",
    "            break\n",
    "        Date = soup.find_all('span', 'sc-1ryi78w-0 bFGdFC sc-16b9dsl-1 iIOvXh u3ufsr-0 gXDEBk sc-85fclk-0 gskKpd')[-1].parent.parent.parent.parent.previous_sibling.previous_sibling.find('div', 'sc-1rk8jst-0 jKHeRh').text.strip()\n",
    "        To = soup.find_all('span', 'sc-1ryi78w-0 bFGdFC sc-16b9dsl-1 iIOvXh u3ufsr-0 gXDEBk sc-85fclk-0 gskKpd')[-1].parent.parent.parent.parent.previous_sibling.find_all('a', 'sc-1r996ns-0 dEMBMB sc-1tbyx6t-1 gzmhhS iklhnl-0 dVkJbV')[-1].text.strip()\n",
    "        Amount = soup.find_all('span', 'sc-1ryi78w-0 bFGdFC sc-16b9dsl-1 iIOvXh u3ufsr-0 gXDEBk sc-85fclk-0 gskKpd')[-1].text.strip()\n",
    "\n",
    "        fp2.write('Date: '+ Date + '\\n')\n",
    "        fp2.write('To: '+ To + '\\n')\n",
    "        fp2.write('Amount: '+ Amount + '\\n')\n",
    "        fp2.write('--------------------------------------------------------------------------'+'\\n')\n",
    "        print('Date: '+ Date + '\\n')\n",
    "        print('To: '+ To + '\\n')\n",
    "        print('Amount: '+ Amount + '\\n')\n",
    "        print('--------------------------------------------------------------------------'+'\\n')\n",
    "        \n",
    "        # 下一個地址\n",
    "        line = To\n",
    "        count = count +1 \n",
    "    \n",
    "    # 寫路徑 \n",
    "    \n",
    "    for node in Path:\n",
    "        fp2.write(node)\n",
    "        print(node)\n",
    "        if node != Path[-1]:\n",
    "            fp2.write(' -> ')\n",
    "            print(' -> ')\n",
    "    fp2.write('\\n')\n",
    "    print('\\n')\n",
    "    \n",
    "    fp2.write('--------------------------------------------------------------------------'+'\\n')\n",
    "    print('--------------------------------------------------------------------------'+'\\n')\n",
    "\n",
    "    line = fp.readline().rstrip('\\n') # Read the next line    \n",
    "\n",
    "fp.close()  # Close input file\n",
    "fp2.close() # Close outut file"
   ]
  },
  {
   "cell_type": "code",
   "execution_count": 166,
   "metadata": {},
   "outputs": [
    {
     "data": {
      "text/plain": [
       "<div class=\"sc-1xo2hia-0 hNBLMA\"><div class=\"odi4cq-0 gFTZHa\" width=\"50%\"><div class=\"ccso3i-0 fODXOI\" width=\"100px\"><div class=\"sc-197you3-0 emRkHL\" target=\"desktop\"><span class=\"sc-1ryi78w-0 bFGdFC sc-16b9dsl-1 iIOvXh sc-1n72lkw-0 bKaZjn\" opacity=\"1\">From</span></div></div><div class=\"ccso3i-0 dMfwHf\" width=\"calc(100% - 100px)\"><a class=\"sc-1r996ns-0 dEMBMB sc-1tbyx6t-1 gzmhhS iklhnl-0 dVkJbV\" href=\"/eth/address/0x03f034fb47965123ea4148e3147e2cfdc5b1f7a5\" opacity=\"1\">0x03f034fb47965123ea4148e3147e2cfdc5b1f7a5</a></div></div><div class=\"odi4cq-0 gFTZHa\" width=\"50%\"><div class=\"ccso3i-0 fODXOI\" width=\"100px\"><div class=\"sc-197you3-0 emRkHL\" target=\"desktop\"><span class=\"sc-1ryi78w-0 bFGdFC sc-16b9dsl-1 iIOvXh sc-1n72lkw-0 bKaZjn\" opacity=\"1\">To</span></div><div class=\"sc-197you3-0 dcqokr\" target=\"mobile\"><svg class=\"sc-1ub63u6-0 dfTkSd\" enable-background=\"new 0 0 32 32\" height=\"32px\" id=\"svg2\" version=\"1.1\" viewbox=\"0 0 32 32\" width=\"32px\"><g id=\"background\"><rect fill=\"none\" height=\"32\" width=\"32\"></rect></g><g id=\"arrow_x5F_full_x5F_right\"><polygon points=\"16,2.001 16,10 2,10 2,22 16,22 16,30 30,16  \"></polygon></g></svg></div></div><div class=\"ccso3i-0 dMfwHf\" width=\"calc(100% - 100px)\"><div class=\"sc-1rk8jst-2 jyQjOo\"><a class=\"sc-1r996ns-0 dEMBMB sc-1tbyx6t-1 gzmhhS iklhnl-0 dVkJbV\" href=\"/eth/address/0x4f49bdebbef29a4f1a3ea1d41867ece1850cef75\" opacity=\"1\">0x4f49bdebbef29a4f1a3ea1d41867ece1850cef75</a></div></div></div></div>"
      ]
     },
     "execution_count": 166,
     "metadata": {},
     "output_type": "execute_result"
    }
   ],
   "source": [
    "To = soup.find_all('span', 'sc-1ryi78w-0 bFGdFC sc-16b9dsl-1 iIOvXh u3ufsr-0 gXDEBk sc-85fclk-0 gskKpd')[-1].parent.parent.parent.parent.previous_sibling\n",
    "\n",
    "To"
   ]
  },
  {
   "cell_type": "code",
   "execution_count": 145,
   "metadata": {},
   "outputs": [
    {
     "data": {
      "text/plain": [
       "[<div class=\"sc-1rk8jst-2 jyQjOo\"><a class=\"sc-1r996ns-0 dEMBMB sc-1tbyx6t-1 gzmhhS iklhnl-0 dVkJbV\" href=\"/eth/address/0x4f49bdebbef29a4f1a3ea1d41867ece1850cef75\" opacity=\"1\">0x4f49bdebbef29a4f1a3ea1d41867ece1850cef75</a></div>]"
      ]
     },
     "execution_count": 145,
     "metadata": {},
     "output_type": "execute_result"
    }
   ],
   "source": [
    "Date = soup.find_all('span', 'sc-1ryi78w-0 bFGdFC sc-16b9dsl-1 iIOvXh u3ufsr-0 gXDEBk sc-85fclk-0 gskKpd')[-1].parent.parent.parent.parent.previous_sibling('div', 'sc-1rk8jst-2 jyQjOo')\n",
    "Date"
   ]
  },
  {
   "cell_type": "code",
   "execution_count": 134,
   "metadata": {},
   "outputs": [
    {
     "ename": "NameError",
     "evalue": "name 'find' is not defined",
     "output_type": "error",
     "traceback": [
      "\u001b[0;31m---------------------------------------------------------------------------\u001b[0m",
      "\u001b[0;31mNameError\u001b[0m                                 Traceback (most recent call last)",
      "\u001b[0;32m<ipython-input-134-398cc078c9de>\u001b[0m in \u001b[0;36m<module>\u001b[0;34m\u001b[0m\n\u001b[0;32m----> 1\u001b[0;31m \u001b[0mfind\u001b[0m\u001b[0;34m(\u001b[0m\u001b[0;34m'span'\u001b[0m\u001b[0;34m,\u001b[0m \u001b[0;34m'sc-1rk8jst-2 jyQjOo'\u001b[0m\u001b[0;34m)\u001b[0m\u001b[0;34m\u001b[0m\u001b[0;34m\u001b[0m\u001b[0m\n\u001b[0m",
      "\u001b[0;31mNameError\u001b[0m: name 'find' is not defined"
     ]
    }
   ],
   "source": [
    "find('span', 'sc-1rk8jst-2 jyQjOo')"
   ]
  },
  {
   "cell_type": "code",
   "execution_count": 170,
   "metadata": {},
   "outputs": [
    {
     "data": {
      "text/plain": [
       "['0x3B5744c7F340E0d2Dcf7A072A4c963B9a43c982B',\n",
       " '0xa8bb6755d9c732ca4e35a5f22ae471c59b194a45']"
      ]
     },
     "execution_count": 170,
     "metadata": {},
     "output_type": "execute_result"
    }
   ],
   "source": [
    "Path"
   ]
  },
  {
   "cell_type": "code",
   "execution_count": 171,
   "metadata": {},
   "outputs": [
    {
     "data": {
      "text/plain": [
       "'0x3B5744c7F340E0d2Dcf7A072A4c963B9a43c982B'"
      ]
     },
     "execution_count": 171,
     "metadata": {},
     "output_type": "execute_result"
    }
   ],
   "source": [
    "Path[0]"
   ]
  },
  {
   "cell_type": "code",
   "execution_count": 175,
   "metadata": {},
   "outputs": [],
   "source": [
    "Date = soup.find_all('span', 'sc-1ryi78w-0 bFGdFC sc-16b9dsl-1 iIOvXh u3ufsr-0 gXDEBk sc-85fclk-0 gskKpd')"
   ]
  },
  {
   "cell_type": "code",
   "execution_count": 176,
   "metadata": {},
   "outputs": [
    {
     "data": {
      "text/plain": [
       "[]"
      ]
     },
     "execution_count": 176,
     "metadata": {},
     "output_type": "execute_result"
    }
   ],
   "source": [
    "Date"
   ]
  },
  {
   "cell_type": "code",
   "execution_count": null,
   "metadata": {},
   "outputs": [],
   "source": []
  }
 ],
 "metadata": {
  "kernelspec": {
   "display_name": "Python 3",
   "language": "python",
   "name": "python3"
  },
  "language_info": {
   "codemirror_mode": {
    "name": "ipython",
    "version": 3
   },
   "file_extension": ".py",
   "mimetype": "text/x-python",
   "name": "python",
   "nbconvert_exporter": "python",
   "pygments_lexer": "ipython3",
   "version": "3.7.3"
  }
 },
 "nbformat": 4,
 "nbformat_minor": 2
}
